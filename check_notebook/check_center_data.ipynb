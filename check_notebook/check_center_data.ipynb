{
 "cells": [
  {
   "cell_type": "code",
   "execution_count": 3,
   "metadata": {},
   "outputs": [
    {
     "data": {
      "text/html": [
       "<div>\n",
       "<style scoped>\n",
       "    .dataframe tbody tr th:only-of-type {\n",
       "        vertical-align: middle;\n",
       "    }\n",
       "\n",
       "    .dataframe tbody tr th {\n",
       "        vertical-align: top;\n",
       "    }\n",
       "\n",
       "    .dataframe thead th {\n",
       "        text-align: right;\n",
       "    }\n",
       "</style>\n",
       "<table border=\"1\" class=\"dataframe\">\n",
       "  <thead>\n",
       "    <tr style=\"text-align: right;\">\n",
       "      <th></th>\n",
       "      <th>major_topic</th>\n",
       "      <th>subtopic</th>\n",
       "      <th>topic</th>\n",
       "      <th>rank</th>\n",
       "      <th>representative_content</th>\n",
       "    </tr>\n",
       "  </thead>\n",
       "  <tbody>\n",
       "    <tr>\n",
       "      <th>0</th>\n",
       "      <td>0</td>\n",
       "      <td>0</td>\n",
       "      <td>0_0</td>\n",
       "      <td>1</td>\n",
       "      <td>비의무 오피스텔 전기안전관리자와 소방안전관리자 겸임할수 없는지?</td>\n",
       "    </tr>\n",
       "    <tr>\n",
       "      <th>1</th>\n",
       "      <td>0</td>\n",
       "      <td>0</td>\n",
       "      <td>0_0</td>\n",
       "      <td>2</td>\n",
       "      <td>상가에서 식당운영, 임대인 아들이 자기가 내년 2월 재계약시 온다고함, 아들이 와서...</td>\n",
       "    </tr>\n",
       "    <tr>\n",
       "      <th>2</th>\n",
       "      <td>0</td>\n",
       "      <td>0</td>\n",
       "      <td>0_0</td>\n",
       "      <td>3</td>\n",
       "      <td>근린생활2급 상가2층 요양원운영 하려는데 법적인 문제는 없는가</td>\n",
       "    </tr>\n",
       "    <tr>\n",
       "      <th>3</th>\n",
       "      <td>0</td>\n",
       "      <td>0</td>\n",
       "      <td>0_0</td>\n",
       "      <td>4</td>\n",
       "      <td>분양 오피스텔, 분양과 관련된 상담 원함</td>\n",
       "    </tr>\n",
       "    <tr>\n",
       "      <th>4</th>\n",
       "      <td>0</td>\n",
       "      <td>0</td>\n",
       "      <td>0_0</td>\n",
       "      <td>5</td>\n",
       "      <td>종로구 사직로 오피스텔5채 보유,,, 시에서 매입하는 청년주택제도 담당자를 알려달라.</td>\n",
       "    </tr>\n",
       "    <tr>\n",
       "      <th>5</th>\n",
       "      <td>0</td>\n",
       "      <td>1</td>\n",
       "      <td>0_1</td>\n",
       "      <td>1</td>\n",
       "      <td>관리위원회구성신고 의무사항인지?\\n관리인신고 첨부서류에 관리규약은 꼭 받아야 하는지...</td>\n",
       "    </tr>\n",
       "    <tr>\n",
       "      <th>6</th>\n",
       "      <td>0</td>\n",
       "      <td>1</td>\n",
       "      <td>0_1</td>\n",
       "      <td>2</td>\n",
       "      <td>1. 관리인 , 2. 관리위원회 구성 문의</td>\n",
       "    </tr>\n",
       "    <tr>\n",
       "      <th>7</th>\n",
       "      <td>0</td>\n",
       "      <td>1</td>\n",
       "      <td>0_1</td>\n",
       "      <td>3</td>\n",
       "      <td>관리인은 선임이 되어 사업자등록증을 발급받으러 세무서에 방문했는데 관리규약을 첨부하...</td>\n",
       "    </tr>\n",
       "    <tr>\n",
       "      <th>8</th>\n",
       "      <td>0</td>\n",
       "      <td>1</td>\n",
       "      <td>0_1</td>\n",
       "      <td>4</td>\n",
       "      <td>관리인선임 신고 외 관리에 관한 사항 처벌 규정이 있는지?</td>\n",
       "    </tr>\n",
       "    <tr>\n",
       "      <th>9</th>\n",
       "      <td>0</td>\n",
       "      <td>1</td>\n",
       "      <td>0_1</td>\n",
       "      <td>5</td>\n",
       "      <td>관리위원회 가족이 관리사무소 업무를 할 수 있는지</td>\n",
       "    </tr>\n",
       "  </tbody>\n",
       "</table>\n",
       "</div>"
      ],
      "text/plain": [
       "   major_topic  subtopic topic  rank  \\\n",
       "0            0         0   0_0     1   \n",
       "1            0         0   0_0     2   \n",
       "2            0         0   0_0     3   \n",
       "3            0         0   0_0     4   \n",
       "4            0         0   0_0     5   \n",
       "5            0         1   0_1     1   \n",
       "6            0         1   0_1     2   \n",
       "7            0         1   0_1     3   \n",
       "8            0         1   0_1     4   \n",
       "9            0         1   0_1     5   \n",
       "\n",
       "                              representative_content  \n",
       "0                비의무 오피스텔 전기안전관리자와 소방안전관리자 겸임할수 없는지?  \n",
       "1  상가에서 식당운영, 임대인 아들이 자기가 내년 2월 재계약시 온다고함, 아들이 와서...  \n",
       "2                 근린생활2급 상가2층 요양원운영 하려는데 법적인 문제는 없는가  \n",
       "3                             분양 오피스텔, 분양과 관련된 상담 원함  \n",
       "4    종로구 사직로 오피스텔5채 보유,,, 시에서 매입하는 청년주택제도 담당자를 알려달라.  \n",
       "5  관리위원회구성신고 의무사항인지?\\n관리인신고 첨부서류에 관리규약은 꼭 받아야 하는지...  \n",
       "6                            1. 관리인 , 2. 관리위원회 구성 문의  \n",
       "7  관리인은 선임이 되어 사업자등록증을 발급받으러 세무서에 방문했는데 관리규약을 첨부하...  \n",
       "8                   관리인선임 신고 외 관리에 관한 사항 처벌 규정이 있는지?  \n",
       "9                        관리위원회 가족이 관리사무소 업무를 할 수 있는지  "
      ]
     },
     "execution_count": 3,
     "metadata": {},
     "output_type": "execute_result"
    }
   ],
   "source": [
    "import pandas as pd\n",
    "import numpy as np\n",
    "\n",
    "df = pd.read_csv(\"outputs/subtopics/subtopic_representatives.csv\")\n",
    "df = df[['major_topic', 'subtopic', 'topic', 'rank', 'representative_content']]\n",
    "df.head(10)"
   ]
  },
  {
   "cell_type": "code",
   "execution_count": 4,
   "metadata": {},
   "outputs": [
    {
     "name": "stdout",
     "output_type": "stream",
     "text": [
      "주제들: ['0_0' '0_1' '0_2' '1_0' '1_1' '1_2' '1_3' '1_4' '1_5' '1_6' '1_7' '1_8'\n",
      " '1_9' '1_10' '2_0' '2_1' '3_0' '3_1' '3_2' '3_3' '3_4' '3_5' '3_6' '3_7'\n",
      " '4_0' '4_1' '4_2' '5_0' '5_1' '5_2' '5_3' '6_0' '6_1' '6_2' '7_0' '7_1'\n",
      " '8_0' '8_1' '8_2' '8_3' '8_4' '8_5' '8_6' '8_7' '8_8']\n"
     ]
    }
   ],
   "source": [
    "print(\"주제들:\", df['topic'].unique())"
   ]
  },
  {
   "cell_type": "code",
   "execution_count": 5,
   "metadata": {},
   "outputs": [
    {
     "data": {
      "text/plain": [
       "0                  비의무 오피스텔 전기안전관리자와 소방안전관리자 겸임할수 없는지?\n",
       "1    상가에서 식당운영, 임대인 아들이 자기가 내년 2월 재계약시 온다고함, 아들이 와서...\n",
       "2                   근린생활2급 상가2층 요양원운영 하려는데 법적인 문제는 없는가\n",
       "3                               분양 오피스텔, 분양과 관련된 상담 원함\n",
       "4      종로구 사직로 오피스텔5채 보유,,, 시에서 매입하는 청년주택제도 담당자를 알려달라.\n",
       "Name: representative_content, dtype: object"
      ]
     },
     "execution_count": 5,
     "metadata": {},
     "output_type": "execute_result"
    }
   ],
   "source": [
    "df[df['topic'] == '0_0']['representative_content']"
   ]
  },
  {
   "cell_type": "code",
   "execution_count": null,
   "metadata": {},
   "outputs": [],
   "source": []
  }
 ],
 "metadata": {
  "kernelspec": {
   "display_name": "venv",
   "language": "python",
   "name": "python3"
  },
  "language_info": {
   "codemirror_mode": {
    "name": "ipython",
    "version": 3
   },
   "file_extension": ".py",
   "mimetype": "text/x-python",
   "name": "python",
   "nbconvert_exporter": "python",
   "pygments_lexer": "ipython3",
   "version": "3.12.5"
  }
 },
 "nbformat": 4,
 "nbformat_minor": 2
}
