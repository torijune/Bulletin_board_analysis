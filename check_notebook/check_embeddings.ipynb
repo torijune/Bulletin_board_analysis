{
 "cells": [
  {
   "cell_type": "code",
   "execution_count": 1,
   "metadata": {},
   "outputs": [],
   "source": [
    "import pandas as pd\n",
    "df_summary = pd.read_csv(\"data/embedding/bulletin_data_with_summary_embeddings.csv\")"
   ]
  },
  {
   "cell_type": "code",
   "execution_count": 2,
   "metadata": {},
   "outputs": [
    {
     "data": {
      "text/html": [
       "<div>\n",
       "<style scoped>\n",
       "    .dataframe tbody tr th:only-of-type {\n",
       "        vertical-align: middle;\n",
       "    }\n",
       "\n",
       "    .dataframe tbody tr th {\n",
       "        vertical-align: top;\n",
       "    }\n",
       "\n",
       "    .dataframe thead th {\n",
       "        text-align: right;\n",
       "    }\n",
       "</style>\n",
       "<table border=\"1\" class=\"dataframe\">\n",
       "  <thead>\n",
       "    <tr style=\"text-align: right;\">\n",
       "      <th></th>\n",
       "      <th>연번</th>\n",
       "      <th>상담일자</th>\n",
       "      <th>상담유형</th>\n",
       "      <th>상담요약</th>\n",
       "      <th>상담인 유형</th>\n",
       "      <th>상담내용</th>\n",
       "      <th>연도</th>\n",
       "      <th>embedding</th>\n",
       "      <th>summary_embedding</th>\n",
       "    </tr>\n",
       "  </thead>\n",
       "  <tbody>\n",
       "    <tr>\n",
       "      <th>0</th>\n",
       "      <td>1</td>\n",
       "      <td>2023.1.2-6</td>\n",
       "      <td>전화</td>\n",
       "      <td>누수피해</td>\n",
       "      <td>구분소유자</td>\n",
       "      <td>배수관 역류에 따라 바닥재(마루) 및 씽크대 등의 피해가 발생하였습니다. 역류원인을...</td>\n",
       "      <td>2023</td>\n",
       "      <td>[0.015961677, 0.03234928, 0.07411159, 0.007246...</td>\n",
       "      <td>[0.02874046191573143, -0.016275031492114067, 0...</td>\n",
       "    </tr>\n",
       "    <tr>\n",
       "      <th>1</th>\n",
       "      <td>2</td>\n",
       "      <td>2023.1.2-6</td>\n",
       "      <td>전화</td>\n",
       "      <td>통합정보마당</td>\n",
       "      <td>임차인</td>\n",
       "      <td>통합정보마당 사용 방법에 대한 이해</td>\n",
       "      <td>2023</td>\n",
       "      <td>[-0.019310059, 0.0036593825, 0.005384315, -0.0...</td>\n",
       "      <td>[-0.022464005276560783, 0.0037450117524713278,...</td>\n",
       "    </tr>\n",
       "  </tbody>\n",
       "</table>\n",
       "</div>"
      ],
      "text/plain": [
       "   연번        상담일자 상담유형    상담요약 상담인 유형  \\\n",
       "0   1  2023.1.2-6   전화    누수피해  구분소유자   \n",
       "1   2  2023.1.2-6   전화  통합정보마당    임차인   \n",
       "\n",
       "                                                상담내용    연도  \\\n",
       "0  배수관 역류에 따라 바닥재(마루) 및 씽크대 등의 피해가 발생하였습니다. 역류원인을...  2023   \n",
       "1                                통합정보마당 사용 방법에 대한 이해  2023   \n",
       "\n",
       "                                           embedding  \\\n",
       "0  [0.015961677, 0.03234928, 0.07411159, 0.007246...   \n",
       "1  [-0.019310059, 0.0036593825, 0.005384315, -0.0...   \n",
       "\n",
       "                                   summary_embedding  \n",
       "0  [0.02874046191573143, -0.016275031492114067, 0...  \n",
       "1  [-0.022464005276560783, 0.0037450117524713278,...  "
      ]
     },
     "execution_count": 2,
     "metadata": {},
     "output_type": "execute_result"
    }
   ],
   "source": [
    "df_summary.head(2)"
   ]
  }
 ],
 "metadata": {
  "kernelspec": {
   "display_name": "venv",
   "language": "python",
   "name": "python3"
  },
  "language_info": {
   "codemirror_mode": {
    "name": "ipython",
    "version": 3
   },
   "file_extension": ".py",
   "mimetype": "text/x-python",
   "name": "python",
   "nbconvert_exporter": "python",
   "pygments_lexer": "ipython3",
   "version": "3.12.5"
  }
 },
 "nbformat": 4,
 "nbformat_minor": 2
}
