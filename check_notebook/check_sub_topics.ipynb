{
 "cells": [
  {
   "cell_type": "code",
   "execution_count": 66,
   "metadata": {},
   "outputs": [],
   "source": [
    "import pandas as pd\n",
    "import numpy as np\n",
    "\n",
    "df_embedding = pd.read_csv(\"data/embedding/bulletin_data_with_summary_embeddings.csv\")\n",
    "df_main = pd.read_csv(\"outputs/summary_kmeans/data_with_clusters.csv\")\n",
    "df_sub = pd.read_csv(\"outputs/subtopics/data_with_subtopics.csv\")"
   ]
  },
  {
   "cell_type": "code",
   "execution_count": 51,
   "metadata": {},
   "outputs": [
    {
     "name": "stdout",
     "output_type": "stream",
     "text": [
      "6944\n"
     ]
    },
    {
     "data": {
      "text/html": [
       "<div>\n",
       "<style scoped>\n",
       "    .dataframe tbody tr th:only-of-type {\n",
       "        vertical-align: middle;\n",
       "    }\n",
       "\n",
       "    .dataframe tbody tr th {\n",
       "        vertical-align: top;\n",
       "    }\n",
       "\n",
       "    .dataframe thead th {\n",
       "        text-align: right;\n",
       "    }\n",
       "</style>\n",
       "<table border=\"1\" class=\"dataframe\">\n",
       "  <thead>\n",
       "    <tr style=\"text-align: right;\">\n",
       "      <th></th>\n",
       "      <th>연번</th>\n",
       "      <th>상담일자</th>\n",
       "      <th>상담유형</th>\n",
       "      <th>상담요약</th>\n",
       "      <th>상담인 유형</th>\n",
       "      <th>상담내용</th>\n",
       "      <th>연도</th>\n",
       "      <th>embedding</th>\n",
       "      <th>summary_embedding</th>\n",
       "    </tr>\n",
       "  </thead>\n",
       "  <tbody>\n",
       "    <tr>\n",
       "      <th>0</th>\n",
       "      <td>1</td>\n",
       "      <td>2023.1.2-6</td>\n",
       "      <td>전화</td>\n",
       "      <td>누수피해</td>\n",
       "      <td>구분소유자</td>\n",
       "      <td>배수관 역류에 따라 바닥재(마루) 및 씽크대 등의 피해가 발생하였습니다. 역류원인을...</td>\n",
       "      <td>2023</td>\n",
       "      <td>[0.015961677, 0.03234928, 0.07411159, 0.007246...</td>\n",
       "      <td>[0.02874046191573143, -0.016275031492114067, 0...</td>\n",
       "    </tr>\n",
       "    <tr>\n",
       "      <th>1</th>\n",
       "      <td>2</td>\n",
       "      <td>2023.1.2-6</td>\n",
       "      <td>전화</td>\n",
       "      <td>통합정보마당</td>\n",
       "      <td>임차인</td>\n",
       "      <td>통합정보마당 사용 방법에 대한 이해</td>\n",
       "      <td>2023</td>\n",
       "      <td>[-0.019310059, 0.0036593825, 0.005384315, -0.0...</td>\n",
       "      <td>[-0.022464005276560783, 0.0037450117524713278,...</td>\n",
       "    </tr>\n",
       "  </tbody>\n",
       "</table>\n",
       "</div>"
      ],
      "text/plain": [
       "   연번        상담일자 상담유형    상담요약 상담인 유형  \\\n",
       "0   1  2023.1.2-6   전화    누수피해  구분소유자   \n",
       "1   2  2023.1.2-6   전화  통합정보마당    임차인   \n",
       "\n",
       "                                                상담내용    연도  \\\n",
       "0  배수관 역류에 따라 바닥재(마루) 및 씽크대 등의 피해가 발생하였습니다. 역류원인을...  2023   \n",
       "1                                통합정보마당 사용 방법에 대한 이해  2023   \n",
       "\n",
       "                                           embedding  \\\n",
       "0  [0.015961677, 0.03234928, 0.07411159, 0.007246...   \n",
       "1  [-0.019310059, 0.0036593825, 0.005384315, -0.0...   \n",
       "\n",
       "                                   summary_embedding  \n",
       "0  [0.02874046191573143, -0.016275031492114067, 0...  \n",
       "1  [-0.022464005276560783, 0.0037450117524713278,...  "
      ]
     },
     "execution_count": 51,
     "metadata": {},
     "output_type": "execute_result"
    }
   ],
   "source": [
    "print(len(df_embedding))\n",
    "df_embedding.head(2)"
   ]
  },
  {
   "cell_type": "code",
   "execution_count": 52,
   "metadata": {},
   "outputs": [
    {
     "name": "stdout",
     "output_type": "stream",
     "text": [
      "6942\n"
     ]
    },
    {
     "data": {
      "text/html": [
       "<div>\n",
       "<style scoped>\n",
       "    .dataframe tbody tr th:only-of-type {\n",
       "        vertical-align: middle;\n",
       "    }\n",
       "\n",
       "    .dataframe tbody tr th {\n",
       "        vertical-align: top;\n",
       "    }\n",
       "\n",
       "    .dataframe thead th {\n",
       "        text-align: right;\n",
       "    }\n",
       "</style>\n",
       "<table border=\"1\" class=\"dataframe\">\n",
       "  <thead>\n",
       "    <tr style=\"text-align: right;\">\n",
       "      <th></th>\n",
       "      <th>연번</th>\n",
       "      <th>상담일자</th>\n",
       "      <th>상담유형</th>\n",
       "      <th>상담요약</th>\n",
       "      <th>상담인 유형</th>\n",
       "      <th>상담내용</th>\n",
       "      <th>연도</th>\n",
       "      <th>embedding</th>\n",
       "      <th>summary_embedding</th>\n",
       "      <th>cluster</th>\n",
       "    </tr>\n",
       "  </thead>\n",
       "  <tbody>\n",
       "    <tr>\n",
       "      <th>0</th>\n",
       "      <td>1</td>\n",
       "      <td>2023.1.2-6</td>\n",
       "      <td>전화</td>\n",
       "      <td>누수피해</td>\n",
       "      <td>구분소유자</td>\n",
       "      <td>배수관 역류에 따라 바닥재(마루) 및 씽크대 등의 피해가 발생하였습니다. 역류원인을...</td>\n",
       "      <td>2023</td>\n",
       "      <td>[0.015961677, 0.03234928, 0.07411159, 0.007246...</td>\n",
       "      <td>[0.02874046191573143, -0.016275031492114067, 0...</td>\n",
       "      <td>7</td>\n",
       "    </tr>\n",
       "    <tr>\n",
       "      <th>1</th>\n",
       "      <td>2</td>\n",
       "      <td>2023.1.2-6</td>\n",
       "      <td>전화</td>\n",
       "      <td>통합정보마당</td>\n",
       "      <td>임차인</td>\n",
       "      <td>통합정보마당 사용 방법에 대한 이해</td>\n",
       "      <td>2023</td>\n",
       "      <td>[-0.019310059, 0.0036593825, 0.005384315, -0.0...</td>\n",
       "      <td>[-0.022464005276560783, 0.0037450117524713278,...</td>\n",
       "      <td>8</td>\n",
       "    </tr>\n",
       "  </tbody>\n",
       "</table>\n",
       "</div>"
      ],
      "text/plain": [
       "   연번        상담일자 상담유형    상담요약 상담인 유형  \\\n",
       "0   1  2023.1.2-6   전화    누수피해  구분소유자   \n",
       "1   2  2023.1.2-6   전화  통합정보마당    임차인   \n",
       "\n",
       "                                                상담내용    연도  \\\n",
       "0  배수관 역류에 따라 바닥재(마루) 및 씽크대 등의 피해가 발생하였습니다. 역류원인을...  2023   \n",
       "1                                통합정보마당 사용 방법에 대한 이해  2023   \n",
       "\n",
       "                                           embedding  \\\n",
       "0  [0.015961677, 0.03234928, 0.07411159, 0.007246...   \n",
       "1  [-0.019310059, 0.0036593825, 0.005384315, -0.0...   \n",
       "\n",
       "                                   summary_embedding  cluster  \n",
       "0  [0.02874046191573143, -0.016275031492114067, 0...        7  \n",
       "1  [-0.022464005276560783, 0.0037450117524713278,...        8  "
      ]
     },
     "execution_count": 52,
     "metadata": {},
     "output_type": "execute_result"
    }
   ],
   "source": [
    "print(len(df_main))\n",
    "df_main.head(2)"
   ]
  },
  {
   "cell_type": "code",
   "execution_count": 53,
   "metadata": {},
   "outputs": [
    {
     "name": "stdout",
     "output_type": "stream",
     "text": [
      "6942\n"
     ]
    },
    {
     "data": {
      "text/html": [
       "<div>\n",
       "<style scoped>\n",
       "    .dataframe tbody tr th:only-of-type {\n",
       "        vertical-align: middle;\n",
       "    }\n",
       "\n",
       "    .dataframe tbody tr th {\n",
       "        vertical-align: top;\n",
       "    }\n",
       "\n",
       "    .dataframe thead th {\n",
       "        text-align: right;\n",
       "    }\n",
       "</style>\n",
       "<table border=\"1\" class=\"dataframe\">\n",
       "  <thead>\n",
       "    <tr style=\"text-align: right;\">\n",
       "      <th></th>\n",
       "      <th>연번</th>\n",
       "      <th>상담일자</th>\n",
       "      <th>상담유형</th>\n",
       "      <th>상담요약</th>\n",
       "      <th>상담인 유형</th>\n",
       "      <th>상담내용</th>\n",
       "      <th>연도</th>\n",
       "      <th>embedding</th>\n",
       "      <th>summary_embedding</th>\n",
       "      <th>major_topic</th>\n",
       "      <th>subtopic</th>\n",
       "      <th>topic</th>\n",
       "    </tr>\n",
       "  </thead>\n",
       "  <tbody>\n",
       "    <tr>\n",
       "      <th>0</th>\n",
       "      <td>1</td>\n",
       "      <td>2023.1.2-6</td>\n",
       "      <td>전화</td>\n",
       "      <td>누수피해</td>\n",
       "      <td>구분소유자</td>\n",
       "      <td>배수관 역류에 따라 바닥재(마루) 및 씽크대 등의 피해가 발생하였습니다. 역류원인을...</td>\n",
       "      <td>2023</td>\n",
       "      <td>[0.015961677, 0.03234928, 0.07411159, 0.007246...</td>\n",
       "      <td>[0.02874046191573143, -0.016275031492114067, 0...</td>\n",
       "      <td>7</td>\n",
       "      <td>0</td>\n",
       "      <td>7_0</td>\n",
       "    </tr>\n",
       "    <tr>\n",
       "      <th>1</th>\n",
       "      <td>2</td>\n",
       "      <td>2023.1.2-6</td>\n",
       "      <td>전화</td>\n",
       "      <td>통합정보마당</td>\n",
       "      <td>임차인</td>\n",
       "      <td>통합정보마당 사용 방법에 대한 이해</td>\n",
       "      <td>2023</td>\n",
       "      <td>[-0.019310059, 0.0036593825, 0.005384315, -0.0...</td>\n",
       "      <td>[-0.022464005276560783, 0.0037450117524713278,...</td>\n",
       "      <td>8</td>\n",
       "      <td>3</td>\n",
       "      <td>8_3</td>\n",
       "    </tr>\n",
       "  </tbody>\n",
       "</table>\n",
       "</div>"
      ],
      "text/plain": [
       "   연번        상담일자 상담유형    상담요약 상담인 유형  \\\n",
       "0   1  2023.1.2-6   전화    누수피해  구분소유자   \n",
       "1   2  2023.1.2-6   전화  통합정보마당    임차인   \n",
       "\n",
       "                                                상담내용    연도  \\\n",
       "0  배수관 역류에 따라 바닥재(마루) 및 씽크대 등의 피해가 발생하였습니다. 역류원인을...  2023   \n",
       "1                                통합정보마당 사용 방법에 대한 이해  2023   \n",
       "\n",
       "                                           embedding  \\\n",
       "0  [0.015961677, 0.03234928, 0.07411159, 0.007246...   \n",
       "1  [-0.019310059, 0.0036593825, 0.005384315, -0.0...   \n",
       "\n",
       "                                   summary_embedding  major_topic  subtopic  \\\n",
       "0  [0.02874046191573143, -0.016275031492114067, 0...            7         0   \n",
       "1  [-0.022464005276560783, 0.0037450117524713278,...            8         3   \n",
       "\n",
       "  topic  \n",
       "0   7_0  \n",
       "1   8_3  "
      ]
     },
     "execution_count": 53,
     "metadata": {},
     "output_type": "execute_result"
    }
   ],
   "source": [
    "print(len(df_sub))\n",
    "df_sub.head(2)"
   ]
  },
  {
   "cell_type": "code",
   "execution_count": 74,
   "metadata": {},
   "outputs": [
    {
     "name": "stdout",
     "output_type": "stream",
     "text": [
      "대주제 종류: [0 1 2 3 4 5 6 7 8]\n",
      "대주제 갯수: 9\n",
      "\n",
      "--------------------------------------------------\n",
      "전체 상담 중 대주제 분포:\n",
      "--------------------------------------------------\n",
      "대주제 0: 217\n",
      "--------------------------------------------------\n",
      "대주제 1: 451\n",
      "--------------------------------------------------\n",
      "대주제 2: 492\n",
      "--------------------------------------------------\n",
      "대주제 3: 668\n",
      "--------------------------------------------------\n",
      "대주제 4: 176\n",
      "--------------------------------------------------\n",
      "대주제 5: 2316\n",
      "--------------------------------------------------\n",
      "대주제 6: 454\n",
      "--------------------------------------------------\n",
      "대주제 7: 236\n",
      "--------------------------------------------------\n",
      "대주제 8: 1932\n",
      "--------------------------------------------------\n"
     ]
    }
   ],
   "source": [
    "unique = np.sort(df_main['cluster'].unique())\n",
    "print(\"대주제 종류:\", unique)\n",
    "print(\"대주제 갯수:\", len(unique))\n",
    "print(\"\")\n",
    "print(\"-\"*50)\n",
    "print(\"전체 상담 중 대주제 분포:\")\n",
    "for topic in unique:\n",
    "    print(\"-\"*50)\n",
    "    print(f\"대주제 {topic}: {len(df_main[df_main['cluster'] == topic])}\")\n",
    "\n",
    "print(\"-\"*50)"
   ]
  },
  {
   "cell_type": "code",
   "execution_count": 78,
   "metadata": {},
   "outputs": [
    {
     "name": "stdout",
     "output_type": "stream",
     "text": [
      "각 대주제별 소주제 분포:\n",
      "--------------------------------------------------\n",
      "대주제 0의 소주제 종류: [0 1 2]\n",
      "대주제 0 갯수: 217\n",
      "--------------------------------------------------\n",
      "대주제 1의 소주제 종류: [ 0  1  2  3  4  5  6  7  8  9 10]\n",
      "대주제 1 갯수: 451\n",
      "--------------------------------------------------\n",
      "대주제 2의 소주제 종류: [0 1]\n",
      "대주제 2 갯수: 492\n",
      "--------------------------------------------------\n",
      "대주제 3의 소주제 종류: [0 1 2 3 4 5 6 7]\n",
      "대주제 3 갯수: 668\n",
      "--------------------------------------------------\n",
      "대주제 4의 소주제 종류: [0 1 2]\n",
      "대주제 4 갯수: 176\n",
      "--------------------------------------------------\n",
      "대주제 5의 소주제 종류: [0 1 2 3]\n",
      "대주제 5 갯수: 2316\n",
      "--------------------------------------------------\n",
      "대주제 6의 소주제 종류: [0 1 2]\n",
      "대주제 6 갯수: 454\n",
      "--------------------------------------------------\n",
      "대주제 7의 소주제 종류: [0 1]\n",
      "대주제 7 갯수: 236\n",
      "--------------------------------------------------\n",
      "대주제 8의 소주제 종류: [0 1 2 3 4 5 6 7 8]\n",
      "대주제 8 갯수: 1932\n",
      "--------------------------------------------------\n"
     ]
    }
   ],
   "source": [
    "print(\"각 대주제별 소주제 분포:\")\n",
    "for topic in unique:\n",
    "    print(\"-\"*50)\n",
    "    print(f\"대주제 {topic}의 소주제 종류: {np.sort(df_sub[df_sub['major_topic'] == topic]['subtopic'].unique())}\")\n",
    "    print(f\"대주제 {topic} 갯수: {len(df_sub[df_sub['major_topic'] == topic])}\")\n",
    "print(\"-\"*50)"
   ]
  },
  {
   "cell_type": "code",
   "execution_count": 81,
   "metadata": {},
   "outputs": [
    {
     "name": "stdout",
     "output_type": "stream",
     "text": [
      "정렬된 주제 종류: ['0_0', '0_1', '0_2', '1_0', '1_1', '1_2', '1_3', '1_4', '1_5', '1_6', '1_7', '1_8', '1_9', '1_10', '2_0', '2_1', '3_0', '3_1', '3_2', '3_3', '3_4', '3_5', '3_6', '3_7', '4_0', '4_1', '4_2', '5_0', '5_1', '5_2', '5_3', '6_0', '6_1', '6_2', '7_0', '7_1', '8_0', '8_1', '8_2', '8_3', '8_4', '8_5', '8_6', '8_7', '8_8']\n"
     ]
    }
   ],
   "source": [
    "topics = df_sub['topic'].unique()\n",
    "\n",
    "sorted_topics = sorted(\n",
    "    topics, \n",
    "    key=lambda x: (int(x.split('_')[0]), int(x.split('_')[1]))\n",
    ")"
   ]
  },
  {
   "cell_type": "code",
   "execution_count": 82,
   "metadata": {},
   "outputs": [
    {
     "name": "stdout",
     "output_type": "stream",
     "text": [
      "주제 종류: ['0_0', '0_1', '0_2', '1_0', '1_1', '1_2', '1_3', '1_4', '1_5', '1_6', '1_7', '1_8', '1_9', '1_10', '2_0', '2_1', '3_0', '3_1', '3_2', '3_3', '3_4', '3_5', '3_6', '3_7', '4_0', '4_1', '4_2', '5_0', '5_1', '5_2', '5_3', '6_0', '6_1', '6_2', '7_0', '7_1', '8_0', '8_1', '8_2', '8_3', '8_4', '8_5', '8_6', '8_7', '8_8']\n",
      "주제 갯수: 45\n"
     ]
    }
   ],
   "source": [
    "print(\"주제 종류:\", sorted_topics)\n",
    "print(\"주제 갯수:\", len(sorted_topics))"
   ]
  },
  {
   "cell_type": "code",
   "execution_count": 87,
   "metadata": {},
   "outputs": [
    {
     "name": "stdout",
     "output_type": "stream",
     "text": [
      "주제별 상담 갯수:\n",
      "0_0 상담 갯수: 81\n",
      "0_1 상담 갯수: 57\n",
      "0_2 상담 갯수: 79\n",
      "1_0 상담 갯수: 11\n",
      "1_1 상담 갯수: 64\n",
      "1_2 상담 갯수: 87\n",
      "1_3 상담 갯수: 48\n",
      "1_4 상담 갯수: 53\n",
      "1_5 상담 갯수: 49\n",
      "1_6 상담 갯수: 23\n",
      "1_7 상담 갯수: 25\n",
      "1_8 상담 갯수: 36\n",
      "1_9 상담 갯수: 24\n",
      "1_10 상담 갯수: 31\n",
      "2_0 상담 갯수: 340\n",
      "2_1 상담 갯수: 152\n",
      "3_0 상담 갯수: 93\n",
      "3_1 상담 갯수: 74\n",
      "3_2 상담 갯수: 93\n",
      "3_3 상담 갯수: 73\n",
      "3_4 상담 갯수: 67\n",
      "3_5 상담 갯수: 93\n",
      "3_6 상담 갯수: 95\n",
      "3_7 상담 갯수: 80\n",
      "4_0 상담 갯수: 50\n",
      "4_1 상담 갯수: 76\n",
      "4_2 상담 갯수: 50\n",
      "5_0 상담 갯수: 161\n",
      "5_1 상담 갯수: 908\n",
      "5_2 상담 갯수: 670\n",
      "5_3 상담 갯수: 577\n",
      "6_0 상담 갯수: 88\n",
      "6_1 상담 갯수: 143\n",
      "6_2 상담 갯수: 223\n",
      "7_0 상담 갯수: 134\n",
      "7_1 상담 갯수: 102\n",
      "8_0 상담 갯수: 126\n",
      "8_1 상담 갯수: 103\n",
      "8_2 상담 갯수: 78\n",
      "8_3 상담 갯수: 374\n",
      "8_4 상담 갯수: 157\n",
      "8_5 상담 갯수: 323\n",
      "8_6 상담 갯수: 160\n",
      "8_7 상담 갯수: 275\n",
      "8_8 상담 갯수: 336\n"
     ]
    }
   ],
   "source": [
    "print(\"주제별 상담 갯수:\")\n",
    "for topics in sorted_topics:\n",
    "    print(f\"{topics} 상담 갯수:\", len(df_sub[df_sub['topic'] == topics]))"
   ]
  },
  {
   "cell_type": "code",
   "execution_count": 88,
   "metadata": {},
   "outputs": [
    {
     "name": "stderr",
     "output_type": "stream",
     "text": [
      "/var/folders/r2/hf806xw17vv9p1hn3v10qr980000gn/T/ipykernel_35052/2719511367.py:11: FutureWarning: \n",
      "\n",
      "Passing `palette` without assigning `hue` is deprecated and will be removed in v0.14.0. Assign the `x` variable to `hue` and set `legend=False` for the same effect.\n",
      "\n",
      "  sns.barplot(data=topic_df, x=\"Topic\", y=\"Consultation Count\", palette=\"viridis\")\n"
     ]
    },
    {
     "data": {
      "image/png": "[encoded data removed]",
      "text/plain": [
       "<Figure size 1500x600 with 1 Axes>"
      ]
     },
     "metadata": {},
     "output_type": "display_data"
    }
   ],
   "source": [
    "import matplotlib.pyplot as plt\n",
    "import seaborn as sns\n",
    "import pandas as pd\n",
    "\n",
    "# 주제별 상담 갯수 집계\n",
    "topic_counts = {topic: len(df_sub[df_sub['topic'] == topic]) for topic in sorted_topics}\n",
    "topic_df = pd.DataFrame(list(topic_counts.items()), columns=[\"Topic\", \"Consultation Count\"])\n",
    "\n",
    "# 시각화\n",
    "plt.figure(figsize=(15, 6))\n",
    "sns.barplot(data=topic_df, x=\"Topic\", y=\"Consultation Count\", palette=\"viridis\")\n",
    "\n",
    "plt.xticks(rotation=90)\n",
    "plt.title(\"Consultation Counts by Sub-Topic\", fontsize=16)\n",
    "plt.xlabel(\"Sub-Topic (major_minor)\", fontsize=12)\n",
    "plt.ylabel(\"Number of Consultations\", fontsize=12)\n",
    "\n",
    "# 값 라벨 추가\n",
    "for i, row in topic_df.iterrows():\n",
    "    plt.text(i, row[\"Consultation Count\"] + 5, str(row[\"Consultation Count\"]), \n",
    "             ha='center', va='bottom', fontsize=8)\n",
    "\n",
    "plt.tight_layout()\n",
    "plt.show()"
   ]
  },
  {
   "cell_type": "code",
   "execution_count": 91,
   "metadata": {},
   "outputs": [],
   "source": [
    "topic_0 = pd.read_csv(\"outputs/subtopics/major_topic_0_subtopics.csv\")\n",
    "topic_1 = pd.read_csv(\"outputs/subtopics/major_topic_1_subtopics.csv\")\n",
    "topic_2 = pd.read_csv(\"outputs/subtopics/major_topic_2_subtopics.csv\")\n",
    "topic_3 = pd.read_csv(\"outputs/subtopics/major_topic_3_subtopics.csv\")\n",
    "topic_4 = pd.read_csv(\"outputs/subtopics/major_topic_4_subtopics.csv\")\n",
    "topic_5 = pd.read_csv(\"outputs/subtopics/major_topic_5_subtopics.csv\")\n",
    "topic_6 = pd.read_csv(\"outputs/subtopics/major_topic_6_subtopics.csv\")\n",
    "topic_7 = pd.read_csv(\"outputs/subtopics/major_topic_7_subtopics.csv\")\n",
    "topic_8 = pd.read_csv(\"outputs/subtopics/major_topic_8_subtopics.csv\")"
   ]
  },
  {
   "cell_type": "code",
   "execution_count": 93,
   "metadata": {},
   "outputs": [
    {
     "data": {
      "text/html": [
       "<div>\n",
       "<style scoped>\n",
       "    .dataframe tbody tr th:only-of-type {\n",
       "        vertical-align: middle;\n",
       "    }\n",
       "\n",
       "    .dataframe tbody tr th {\n",
       "        vertical-align: top;\n",
       "    }\n",
       "\n",
       "    .dataframe thead th {\n",
       "        text-align: right;\n",
       "    }\n",
       "</style>\n",
       "<table border=\"1\" class=\"dataframe\">\n",
       "  <thead>\n",
       "    <tr style=\"text-align: right;\">\n",
       "      <th></th>\n",
       "      <th>연번</th>\n",
       "      <th>상담일자</th>\n",
       "      <th>상담유형</th>\n",
       "      <th>상담요약</th>\n",
       "      <th>상담인 유형</th>\n",
       "      <th>상담내용</th>\n",
       "      <th>연도</th>\n",
       "      <th>embedding</th>\n",
       "      <th>summary_embedding</th>\n",
       "      <th>major_topic</th>\n",
       "      <th>subtopic</th>\n",
       "      <th>topic</th>\n",
       "    </tr>\n",
       "  </thead>\n",
       "  <tbody>\n",
       "    <tr>\n",
       "      <th>0</th>\n",
       "      <td>22</td>\n",
       "      <td>2023.1.2-6</td>\n",
       "      <td>전화</td>\n",
       "      <td>기타</td>\n",
       "      <td>구분소유자</td>\n",
       "      <td>집합건물 담당자 이메일을 알려달라고 함.</td>\n",
       "      <td>2023</td>\n",
       "      <td>[0.018483004, 0.009882499, 0.005412243, -0.002...</td>\n",
       "      <td>[-0.014973391778767109, -0.014451360329985619,...</td>\n",
       "      <td>0</td>\n",
       "      <td>2</td>\n",
       "      <td>0_2</td>\n",
       "    </tr>\n",
       "    <tr>\n",
       "      <th>1</th>\n",
       "      <td>62</td>\n",
       "      <td>2023.1.19-13</td>\n",
       "      <td>전화</td>\n",
       "      <td>기타</td>\n",
       "      <td>임차인</td>\n",
       "      <td>1개의 점포를 임대인이 마음대로 분할해서 여러 사람들한테 임차를 하는 것이 불법이 ...</td>\n",
       "      <td>2023</td>\n",
       "      <td>[0.029394068, 0.023809971, 0.026860543, 0.0394...</td>\n",
       "      <td>[-0.014973391778767109, -0.014451360329985619,...</td>\n",
       "      <td>0</td>\n",
       "      <td>0</td>\n",
       "      <td>0_0</td>\n",
       "    </tr>\n",
       "  </tbody>\n",
       "</table>\n",
       "</div>"
      ],
      "text/plain": [
       "   연번          상담일자 상담유형 상담요약 상담인 유형  \\\n",
       "0  22    2023.1.2-6   전화   기타  구분소유자   \n",
       "1  62  2023.1.19-13   전화   기타    임차인   \n",
       "\n",
       "                                                상담내용    연도  \\\n",
       "0                             집합건물 담당자 이메일을 알려달라고 함.  2023   \n",
       "1  1개의 점포를 임대인이 마음대로 분할해서 여러 사람들한테 임차를 하는 것이 불법이 ...  2023   \n",
       "\n",
       "                                           embedding  \\\n",
       "0  [0.018483004, 0.009882499, 0.005412243, -0.002...   \n",
       "1  [0.029394068, 0.023809971, 0.026860543, 0.0394...   \n",
       "\n",
       "                                   summary_embedding  major_topic  subtopic  \\\n",
       "0  [-0.014973391778767109, -0.014451360329985619,...            0         2   \n",
       "1  [-0.014973391778767109, -0.014451360329985619,...            0         0   \n",
       "\n",
       "  topic  \n",
       "0   0_2  \n",
       "1   0_0  "
      ]
     },
     "execution_count": 93,
     "metadata": {},
     "output_type": "execute_result"
    }
   ],
   "source": [
    "topic_0.head(2)"
   ]
  },
  {
   "cell_type": "code",
   "execution_count": null,
   "metadata": {},
   "outputs": [],
   "source": []
  }
 ],
 "metadata": {
  "kernelspec": {
   "display_name": "venv",
   "language": "python",
   "name": "python3"
  },
  "language_info": {
   "codemirror_mode": {
    "name": "ipython",
    "version": 3
   },
   "file_extension": ".py",
   "mimetype": "text/x-python",
   "name": "python",
   "nbconvert_exporter": "python",
   "pygments_lexer": "ipython3",
   "version": "3.12.5"
  }
 },
 "nbformat": 4,
 "nbformat_minor": 2
}
